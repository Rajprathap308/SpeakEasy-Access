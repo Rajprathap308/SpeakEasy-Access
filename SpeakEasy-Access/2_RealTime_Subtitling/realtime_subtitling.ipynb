{
 "cells": [
  {
   "cell_type": "code",
   "execution_count": null,
   "id": "e992c106",
   "metadata": {},
   "outputs": [],
   "source": [
    "\n",
    "from pydub import AudioSegment\n",
    "from pydub.utils import make_chunks\n",
    "import speech_recognition as sr\n",
    "import os\n",
    "\n",
    "audio = AudioSegment.from_wav(\"Subtitle_input.wav\")\n",
    "chunk_length_ms = 5000\n",
    "chunks = make_chunks(audio, chunk_length_ms)\n",
    "\n",
    "r = sr.Recognizer()\n",
    "subtitle_output = []\n",
    "\n",
    "for i, chunk in enumerate(chunks):\n",
    "    chunk_filename = f\"chunk{i}.wav\"\n",
    "    chunk.export(chunk_filename, format=\"wav\")\n",
    "    with sr.AudioFile(chunk_filename) as source:\n",
    "        audio_data = r.record(source)\n",
    "    try:\n",
    "        text = r.recognize_google(audio_data)\n",
    "    except sr.UnknownValueError:\n",
    "        text = \"[Unclear audio]\"\n",
    "    except sr.RequestError as e:\n",
    "        text = f\"[Error: {e}]\"\n",
    "    timestamp = f\"[{(i * 5):02d}s - {(i * 5 + 5):02d}s]\"\n",
    "    subtitle_output.append(f\"{timestamp}: {text}\")\n",
    "    os.remove(chunk_filename)\n",
    "\n",
    "for line in subtitle_output:\n",
    "    print(line)\n"
   ]
  }
 ],
 "metadata": {},
 "nbformat": 4,
 "nbformat_minor": 5
}