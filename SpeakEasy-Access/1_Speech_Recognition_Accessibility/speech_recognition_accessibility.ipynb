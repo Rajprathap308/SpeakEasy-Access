{
 "cells": [
  {
   "cell_type": "code",
   "execution_count": null,
   "id": "86e8eec3",
   "metadata": {},
   "outputs": [],
   "source": [
    "\n",
    "import speech_recognition as sr\n",
    "\n",
    "recognizer = sr.Recognizer()\n",
    "audio_file_path = r\"C:\\Users\\kasth\\Downloads\\audio2.wav\"\n",
    "\n",
    "with sr.AudioFile(audio_file_path) as source:\n",
    "    print(\"Listening...\")\n",
    "    audio_data = recognizer.record(source)\n",
    "\n",
    "try:\n",
    "    print(\"Recognizing...\")\n",
    "    text = recognizer.recognize_google(audio_data)\n",
    "    print(\"Transcribed Text:\\n\", text)\n",
    "except sr.UnknownValueError:\n",
    "    print(\"Speech Recognition could not understand the audio\")\n",
    "except sr.RequestError as e:\n",
    "    print(f\"Could not request results; {e}\")\n"
   ]
  }
 ],
 "metadata": {},
 "nbformat": 4,
 "nbformat_minor": 5
}